{
 "cells": [
  {
   "cell_type": "code",
   "execution_count": 1,
   "metadata": {},
   "outputs": [],
   "source": [
    "import requests\n",
    "import pandas as pd\n",
    "import numpy as np\n",
    "\n",
    "access_key = \"24cadd12-2a4c-4e65-a853-824b5dcc2510\"\n",
    "\n",
    "token_url = \"https://www.ura.gov.sg/uraDataService/insertNewToken.action\"\n",
    "token = requests.post(token_url,headers={\"AccessKey\": access_key,'User-Agent': 'Mozilla/5.0'}).json()['Result']"
   ]
  },
  {
   "cell_type": "code",
   "execution_count": 15,
   "metadata": {},
   "outputs": [
    {
     "data": {
      "text/html": [
       "<div>\n",
       "<style scoped>\n",
       "    .dataframe tbody tr th:only-of-type {\n",
       "        vertical-align: middle;\n",
       "    }\n",
       "\n",
       "    .dataframe tbody tr th {\n",
       "        vertical-align: top;\n",
       "    }\n",
       "\n",
       "    .dataframe thead th {\n",
       "        text-align: right;\n",
       "    }\n",
       "</style>\n",
       "<table border=\"1\" class=\"dataframe\">\n",
       "  <thead>\n",
       "    <tr style=\"text-align: right;\">\n",
       "      <th></th>\n",
       "    </tr>\n",
       "  </thead>\n",
       "  <tbody>\n",
       "  </tbody>\n",
       "</table>\n",
       "</div>"
      ],
      "text/plain": [
       "Empty DataFrame\n",
       "Columns: []\n",
       "Index: []"
      ]
     },
     "execution_count": 15,
     "metadata": {},
     "output_type": "execute_result"
    }
   ],
   "source": [
    "url = \"https://www.ura.gov.sg/uraDataService/invokeUraDS?service=Planning_Decision\"\n",
    "data = requests.post(url,headers={\"AccessKey\":access_key, \"token\":token, \"User-Agent\":\"Mozilla/5.0\"},params={\"year\":1990}).json()['Result']\n",
    "df = pd.DataFrame(data)\n",
    "df"
   ]
  },
  {
   "cell_type": "code",
   "execution_count": 6,
   "metadata": {},
   "outputs": [],
   "source": [
    "from api_center import URA\n",
    "api = URA('/Users/nathaniel/ura_accesskey.txt')"
   ]
  },
  {
   "cell_type": "code",
   "execution_count": 7,
   "metadata": {},
   "outputs": [],
   "source": [
    "df = api.load(\"private pipeline\")"
   ]
  },
  {
   "cell_type": "code",
   "execution_count": 9,
   "metadata": {},
   "outputs": [
    {
     "name": "stdout",
     "output_type": "stream",
     "text": [
      "Data appended to table ura_test\n"
     ]
    }
   ],
   "source": [
    "dbc.append(df,\"ura_test\")"
   ]
  },
  {
   "cell_type": "code",
   "execution_count": 28,
   "metadata": {},
   "outputs": [],
   "source": [
    "url = \"https://www.ura.gov.sg/uraDataService/invokeUraDS?service=PMI_Resi_Pipeline\"\n",
    "data = requests.post(url,headers={\"AccessKey\":access_key, \"token\":token, \"User-Agent\":\"Mozilla/5.0\"}).json()['Result']"
   ]
  },
  {
   "cell_type": "code",
   "execution_count": 30,
   "metadata": {},
   "outputs": [
    {
     "data": {
      "text/html": [
       "<div>\n",
       "<style scoped>\n",
       "    .dataframe tbody tr th:only-of-type {\n",
       "        vertical-align: middle;\n",
       "    }\n",
       "\n",
       "    .dataframe tbody tr th {\n",
       "        vertical-align: top;\n",
       "    }\n",
       "\n",
       "    .dataframe thead th {\n",
       "        text-align: right;\n",
       "    }\n",
       "</style>\n",
       "<table border=\"1\" class=\"dataframe\">\n",
       "  <thead>\n",
       "    <tr style=\"text-align: right;\">\n",
       "      <th></th>\n",
       "      <th>noOfApartment</th>\n",
       "      <th>expectedTOPYear</th>\n",
       "      <th>noOfSemiDetached</th>\n",
       "      <th>street</th>\n",
       "      <th>district</th>\n",
       "      <th>project</th>\n",
       "      <th>noOfDetachedHouse</th>\n",
       "      <th>noOfTerrace</th>\n",
       "      <th>noOfCondo</th>\n",
       "      <th>developerName</th>\n",
       "      <th>totalUnits</th>\n",
       "    </tr>\n",
       "  </thead>\n",
       "  <tbody>\n",
       "    <tr>\n",
       "      <th>0</th>\n",
       "      <td>453</td>\n",
       "      <td>na</td>\n",
       "      <td>0</td>\n",
       "      <td>Anson Road</td>\n",
       "      <td>02</td>\n",
       "      <td>Newport Residences</td>\n",
       "      <td>0</td>\n",
       "      <td>0</td>\n",
       "      <td>0</td>\n",
       "      <td>Hong Leong Properties Pte Ltd</td>\n",
       "      <td>453</td>\n",
       "    </tr>\n",
       "    <tr>\n",
       "      <th>1</th>\n",
       "      <td>372</td>\n",
       "      <td>na</td>\n",
       "      <td>0</td>\n",
       "      <td>Ang Mo Kio Rise</td>\n",
       "      <td>20</td>\n",
       "      <td>AMO Residence</td>\n",
       "      <td>0</td>\n",
       "      <td>0</td>\n",
       "      <td>0</td>\n",
       "      <td>United Venture Development (2021) Pte Ltd</td>\n",
       "      <td>372</td>\n",
       "    </tr>\n",
       "    <tr>\n",
       "      <th>2</th>\n",
       "      <td>407</td>\n",
       "      <td>na</td>\n",
       "      <td>0</td>\n",
       "      <td>Northumberland Road</td>\n",
       "      <td>08</td>\n",
       "      <td>Piccadilly Grand</td>\n",
       "      <td>0</td>\n",
       "      <td>0</td>\n",
       "      <td>0</td>\n",
       "      <td>Maximus Residential SG Pte Ltd/Maximus Commerc...</td>\n",
       "      <td>407</td>\n",
       "    </tr>\n",
       "    <tr>\n",
       "      <th>3</th>\n",
       "      <td>215</td>\n",
       "      <td>na</td>\n",
       "      <td>0</td>\n",
       "      <td>Shenton Way</td>\n",
       "      <td>01</td>\n",
       "      <td>Residential apartments</td>\n",
       "      <td>0</td>\n",
       "      <td>0</td>\n",
       "      <td>0</td>\n",
       "      <td>Perennial Shenton Property Pte Ltd</td>\n",
       "      <td>215</td>\n",
       "    </tr>\n",
       "    <tr>\n",
       "      <th>4</th>\n",
       "      <td>0</td>\n",
       "      <td>na</td>\n",
       "      <td>0</td>\n",
       "      <td>Tengah Garden Walk</td>\n",
       "      <td>24</td>\n",
       "      <td>Copen Grand</td>\n",
       "      <td>0</td>\n",
       "      <td>0</td>\n",
       "      <td>0</td>\n",
       "      <td>Taurus Properties SG Pte Ltd</td>\n",
       "      <td>639</td>\n",
       "    </tr>\n",
       "    <tr>\n",
       "      <th>...</th>\n",
       "      <td>...</td>\n",
       "      <td>...</td>\n",
       "      <td>...</td>\n",
       "      <td>...</td>\n",
       "      <td>...</td>\n",
       "      <td>...</td>\n",
       "      <td>...</td>\n",
       "      <td>...</td>\n",
       "      <td>...</td>\n",
       "      <td>...</td>\n",
       "      <td>...</td>\n",
       "    </tr>\n",
       "    <tr>\n",
       "      <th>84</th>\n",
       "      <td>540</td>\n",
       "      <td>na</td>\n",
       "      <td>0</td>\n",
       "      <td>Irwell Hill</td>\n",
       "      <td>09</td>\n",
       "      <td>Irwell Hill Residences</td>\n",
       "      <td>0</td>\n",
       "      <td>0</td>\n",
       "      <td>0</td>\n",
       "      <td>CDL Perseus Pte Ltd</td>\n",
       "      <td>540</td>\n",
       "    </tr>\n",
       "    <tr>\n",
       "      <th>85</th>\n",
       "      <td>487</td>\n",
       "      <td>na</td>\n",
       "      <td>0</td>\n",
       "      <td>Pasir Ris Drive 8/Pasir Ris Drive 3/Pasir Ris ...</td>\n",
       "      <td>18</td>\n",
       "      <td>Pasir Ris 8</td>\n",
       "      <td>0</td>\n",
       "      <td>0</td>\n",
       "      <td>0</td>\n",
       "      <td>Phoenix Residential Pte Ltd/Phoenix Commercial...</td>\n",
       "      <td>487</td>\n",
       "    </tr>\n",
       "    <tr>\n",
       "      <th>86</th>\n",
       "      <td>0</td>\n",
       "      <td>na</td>\n",
       "      <td>0</td>\n",
       "      <td>Canberra Drive</td>\n",
       "      <td>27</td>\n",
       "      <td>The Commodore</td>\n",
       "      <td>0</td>\n",
       "      <td>0</td>\n",
       "      <td>219</td>\n",
       "      <td>JBE (Canberra) Pte Ltd</td>\n",
       "      <td>219</td>\n",
       "    </tr>\n",
       "    <tr>\n",
       "      <th>87</th>\n",
       "      <td>268</td>\n",
       "      <td>na</td>\n",
       "      <td>0</td>\n",
       "      <td>New Upper Changi Road/Tanah Merah Kechil Link</td>\n",
       "      <td>16</td>\n",
       "      <td>Sceneca Residence</td>\n",
       "      <td>0</td>\n",
       "      <td>0</td>\n",
       "      <td>0</td>\n",
       "      <td>MCC Land (TMK) Pte Ltd</td>\n",
       "      <td>268</td>\n",
       "    </tr>\n",
       "    <tr>\n",
       "      <th>88</th>\n",
       "      <td>0</td>\n",
       "      <td>2027</td>\n",
       "      <td>0</td>\n",
       "      <td>Yishun Close</td>\n",
       "      <td>27</td>\n",
       "      <td>North Gaia</td>\n",
       "      <td>0</td>\n",
       "      <td>0</td>\n",
       "      <td>0</td>\n",
       "      <td>Sing Holdings (Yishun) Pte Ltd</td>\n",
       "      <td>616</td>\n",
       "    </tr>\n",
       "  </tbody>\n",
       "</table>\n",
       "<p>89 rows × 11 columns</p>\n",
       "</div>"
      ],
      "text/plain": [
       "    noOfApartment expectedTOPYear  noOfSemiDetached  \\\n",
       "0             453              na                 0   \n",
       "1             372              na                 0   \n",
       "2             407              na                 0   \n",
       "3             215              na                 0   \n",
       "4               0              na                 0   \n",
       "..            ...             ...               ...   \n",
       "84            540              na                 0   \n",
       "85            487              na                 0   \n",
       "86              0              na                 0   \n",
       "87            268              na                 0   \n",
       "88              0            2027                 0   \n",
       "\n",
       "                                               street district  \\\n",
       "0                                          Anson Road       02   \n",
       "1                                     Ang Mo Kio Rise       20   \n",
       "2                                 Northumberland Road       08   \n",
       "3                                         Shenton Way       01   \n",
       "4                                  Tengah Garden Walk       24   \n",
       "..                                                ...      ...   \n",
       "84                                        Irwell Hill       09   \n",
       "85  Pasir Ris Drive 8/Pasir Ris Drive 3/Pasir Ris ...       18   \n",
       "86                                     Canberra Drive       27   \n",
       "87      New Upper Changi Road/Tanah Merah Kechil Link       16   \n",
       "88                                       Yishun Close       27   \n",
       "\n",
       "                   project  noOfDetachedHouse  noOfTerrace  noOfCondo  \\\n",
       "0       Newport Residences                  0            0          0   \n",
       "1            AMO Residence                  0            0          0   \n",
       "2         Piccadilly Grand                  0            0          0   \n",
       "3   Residential apartments                  0            0          0   \n",
       "4              Copen Grand                  0            0          0   \n",
       "..                     ...                ...          ...        ...   \n",
       "84  Irwell Hill Residences                  0            0          0   \n",
       "85             Pasir Ris 8                  0            0          0   \n",
       "86           The Commodore                  0            0        219   \n",
       "87       Sceneca Residence                  0            0          0   \n",
       "88              North Gaia                  0            0          0   \n",
       "\n",
       "                                        developerName  totalUnits  \n",
       "0                       Hong Leong Properties Pte Ltd         453  \n",
       "1           United Venture Development (2021) Pte Ltd         372  \n",
       "2   Maximus Residential SG Pte Ltd/Maximus Commerc...         407  \n",
       "3                  Perennial Shenton Property Pte Ltd         215  \n",
       "4                        Taurus Properties SG Pte Ltd         639  \n",
       "..                                                ...         ...  \n",
       "84                                CDL Perseus Pte Ltd         540  \n",
       "85  Phoenix Residential Pte Ltd/Phoenix Commercial...         487  \n",
       "86                             JBE (Canberra) Pte Ltd         219  \n",
       "87                             MCC Land (TMK) Pte Ltd         268  \n",
       "88                     Sing Holdings (Yishun) Pte Ltd         616  \n",
       "\n",
       "[89 rows x 11 columns]"
      ]
     },
     "execution_count": 30,
     "metadata": {},
     "output_type": "execute_result"
    }
   ],
   "source": [
    "df = pd.DataFrame(data)\n",
    "df"
   ]
  },
  {
   "cell_type": "code",
   "execution_count": 31,
   "metadata": {},
   "outputs": [],
   "source": [
    "ref = \"22q2\""
   ]
  },
  {
   "cell_type": "code",
   "execution_count": 35,
   "metadata": {},
   "outputs": [
    {
     "ename": "TypeError",
     "evalue": "'str' object does not support item assignment",
     "output_type": "error",
     "traceback": [
      "\u001b[0;31m---------------------------------------------------------------------------\u001b[0m",
      "\u001b[0;31mTypeError\u001b[0m                                 Traceback (most recent call last)",
      "\u001b[1;32m/Users/nathaniel/sg-property/test_ura.ipynb Cell 8\u001b[0m in \u001b[0;36m<cell line: 1>\u001b[0;34m()\u001b[0m\n\u001b[0;32m----> <a href='vscode-notebook-cell:/Users/nathaniel/sg-property/test_ura.ipynb#X20sZmlsZQ%3D%3D?line=0'>1</a>\u001b[0m ref[\u001b[39m1\u001b[39m] \u001b[39m=\u001b[39m \u001b[39m\"\u001b[39m\u001b[39m1\u001b[39m\u001b[39m\"\u001b[39m\n",
      "\u001b[0;31mTypeError\u001b[0m: 'str' object does not support item assignment"
     ]
    }
   ],
   "source": [
    "ref[1] = \"1\""
   ]
  },
  {
   "cell_type": "code",
   "execution_count": 41,
   "metadata": {},
   "outputs": [
    {
     "data": {
      "text/plain": [
       "['21', 'q', '2']"
      ]
     },
     "execution_count": 41,
     "metadata": {},
     "output_type": "execute_result"
    }
   ],
   "source": [
    "refPeriod = ['22','q','2']\n",
    "refPeriod[0] = str(int(refPeriod[0])-1)\n",
    "refPeriod"
   ]
  },
  {
   "cell_type": "code",
   "execution_count": null,
   "metadata": {},
   "outputs": [],
   "source": []
  }
 ],
 "metadata": {
  "kernelspec": {
   "display_name": "Python 3.9.13 ('property-analysis': conda)",
   "language": "python",
   "name": "python3"
  },
  "language_info": {
   "codemirror_mode": {
    "name": "ipython",
    "version": 3
   },
   "file_extension": ".py",
   "mimetype": "text/x-python",
   "name": "python",
   "nbconvert_exporter": "python",
   "pygments_lexer": "ipython3",
   "version": "3.9.13"
  },
  "orig_nbformat": 4,
  "vscode": {
   "interpreter": {
    "hash": "c0fec944b4412547c2faf4e9884201ea4a20013b05734668f237e2c892c1b31b"
   }
  }
 },
 "nbformat": 4,
 "nbformat_minor": 2
}
